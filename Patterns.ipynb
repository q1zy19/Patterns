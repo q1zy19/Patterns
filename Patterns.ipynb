{
 "cells": [
  {
   "cell_type": "code",
   "execution_count": 2,
   "id": "5717995e",
   "metadata": {},
   "outputs": [
    {
     "name": "stdout",
     "output_type": "stream",
     "text": [
      "Кадры\n",
      "Прочее\n",
      "Финансы\n"
     ]
    }
   ],
   "source": [
    "import os\n",
    "import tkinter as tk\n",
    "from tkinter import filedialog\n",
    "\n",
    "class FileOrganizerGUI:\n",
    "    def __init__(self, master):\n",
    "        self.master = master\n",
    "        master.title(\"File Organizer\")\n",
    "\n",
    "        self.select_folder_button = tk.Button(master, text=\"Select Folder\", command=self.select_folder)\n",
    "        self.select_folder_button.pack(padx=10, pady=10)\n",
    "\n",
    "        self.organize_files_button = tk.Button(master, text=\"Organize Files\", command=self.organize_files)\n",
    "        self.organize_files_button.pack(padx=10, pady=10)\n",
    "\n",
    "    def select_folder(self):\n",
    "        self.path = filedialog.askdirectory()\n",
    "    \n",
    "    def organize_files(self):\n",
    "        \n",
    "        self.dept_names = [\"Финансы\",\"Кадры\",\"Планирование\",\"Снабжение\"]\n",
    "\n",
    "        if not os.path.exists(self.path + \"/Прочее\"):\n",
    "            os.mkdir(self.path + \"/Прочее\")\n",
    "\n",
    "        # Обходим все файлы в указанной папке\n",
    "        for filename in os.listdir(self.path):\n",
    "            print(filename)\n",
    "            if os.path.isfile(os.path.join(self.path, filename)):\n",
    "                # Получаем название отдела из имени файла\n",
    "                dept_name = os.path.splitext(filename)[0]\n",
    "                print(dept_name)\n",
    "                # Проверяем, что в имени файла есть название отдела\n",
    "                if dept_name in self.dept_names:\n",
    "                    # Создаем папку отдела, если ее не существует\n",
    "                    if not os.path.exists(self.path + \"/\" + dept_name):\n",
    "                        os.mkdir(self.path + \"/\" + dept_name)\n",
    "                    # Перемещаем файл в папку отдела\n",
    "                    os.rename(self.path + \"/\" + filename, self.path + \"/\" + dept_name + \"/\" + filename)\n",
    "                else:\n",
    "                    # Перемещаем файл в папку \"Прочее\"\n",
    "                    os.rename(self.path + \"/\" + filename, self.path + \"/Прочее/\" + filename)\n",
    "\n",
    "root = tk.Tk()\n",
    "gui = FileOrganizerGUI(root)\n",
    "root.mainloop()"
   ]
  },
  {
   "cell_type": "code",
   "execution_count": null,
   "id": "91ad6f14",
   "metadata": {},
   "outputs": [],
   "source": []
  }
 ],
 "metadata": {
  "kernelspec": {
   "display_name": "Python 3 (ipykernel)",
   "language": "python",
   "name": "python3"
  },
  "language_info": {
   "codemirror_mode": {
    "name": "ipython",
    "version": 3
   },
   "file_extension": ".py",
   "mimetype": "text/x-python",
   "name": "python",
   "nbconvert_exporter": "python",
   "pygments_lexer": "ipython3",
   "version": "3.9.7"
  }
 },
 "nbformat": 4,
 "nbformat_minor": 5
}
